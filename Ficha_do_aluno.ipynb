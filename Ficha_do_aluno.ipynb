{
  "nbformat": 4,
  "nbformat_minor": 0,
  "metadata": {
    "colab": {
      "provenance": [],
      "authorship_tag": "ABX9TyNp/vYRjDivh5HjtNW03fnb",
      "include_colab_link": true
    },
    "kernelspec": {
      "name": "python3",
      "display_name": "Python 3"
    },
    "language_info": {
      "name": "python"
    }
  },
  "cells": [
    {
      "cell_type": "markdown",
      "metadata": {
        "id": "view-in-github",
        "colab_type": "text"
      },
      "source": [
        "<a href=\"https://colab.research.google.com/github/matteusl96/Medicenter/blob/master/Ficha_do_aluno.ipynb\" target=\"_parent\"><img src=\"https://colab.research.google.com/assets/colab-badge.svg\" alt=\"Open In Colab\"/></a>"
      ]
    },
    {
      "cell_type": "markdown",
      "source": [
        "#Business Case\n",
        "\n",
        "**Proposta da atividade:**\n",
        "\n",
        "\n",
        "> *A atividade tem como proposta, criar uma ficha de acompanhamento de alunos de uma academia, onde esta ficha deve conter nome, idade, altura, peso corporal. Deve também ser calculado o IMC do aluno, além de exibir o resultado do IMC.\n",
        "O script criado deve imprimir a planilha em .pdf.*\n",
        "\n"
      ],
      "metadata": {
        "id": "04jttf3Efj24"
      }
    },
    {
      "cell_type": "markdown",
      "source": [
        "##Importação das bibliotecas\n",
        "\n",
        "Foi utilizado a biblioteca pdf_reports, para gerar o arquivo .pdf, instruções realizadas conforme ensinado no curso."
      ],
      "metadata": {
        "id": "K7la8ZrxhnIx"
      }
    },
    {
      "cell_type": "code",
      "source": [
        "!pip install pdf_reports"
      ],
      "metadata": {
        "id": "Dczz9ayfjNYb",
        "colab": {
          "base_uri": "https://localhost:8080/"
        },
        "outputId": "e628d2b2-44b9-4c01-b007-3b09d1d59e1e"
      },
      "execution_count": null,
      "outputs": [
        {
          "output_type": "stream",
          "name": "stdout",
          "text": [
            "Looking in indexes: https://pypi.org/simple, https://us-python.pkg.dev/colab-wheels/public/simple/\n",
            "Collecting pdf_reports\n",
            "  Downloading pdf_reports-0.3.4-py3-none-any.whl (118 kB)\n",
            "\u001b[?25l     \u001b[90m━━━━━━━━━━━━━━━━━━━━━━━━━━━━━━━━━━━━━━━━\u001b[0m \u001b[32m0.0/118.5 KB\u001b[0m \u001b[31m?\u001b[0m eta \u001b[36m-:--:--\u001b[0m\r\u001b[2K     \u001b[90m━━━━━━━━━━━━━━━━━━━━━━━━━━━━━━━━━━━━━━\u001b[0m \u001b[32m118.5/118.5 KB\u001b[0m \u001b[31m12.0 MB/s\u001b[0m eta \u001b[36m0:00:00\u001b[0m\n",
            "\u001b[?25hCollecting backports.functools-lru-cache\n",
            "  Downloading backports.functools_lru_cache-1.6.4-py2.py3-none-any.whl (5.9 kB)\n",
            "Requirement already satisfied: jinja2 in /usr/local/lib/python3.9/dist-packages (from pdf_reports) (3.1.2)\n",
            "Requirement already satisfied: Markdown in /usr/local/lib/python3.9/dist-packages (from pdf_reports) (3.4.1)\n",
            "Requirement already satisfied: beautifulsoup4 in /usr/local/lib/python3.9/dist-packages (from pdf_reports) (4.11.2)\n",
            "Collecting weasyprint<=52\n",
            "  Downloading WeasyPrint-52-py3-none-any.whl (304 kB)\n",
            "\u001b[2K     \u001b[90m━━━━━━━━━━━━━━━━━━━━━━━━━━━━━━━━━━━━━━\u001b[0m \u001b[32m304.1/304.1 KB\u001b[0m \u001b[31m37.7 MB/s\u001b[0m eta \u001b[36m0:00:00\u001b[0m\n",
            "\u001b[?25hRequirement already satisfied: pandas in /usr/local/lib/python3.9/dist-packages (from pdf_reports) (1.4.4)\n",
            "Collecting pypugjs\n",
            "  Downloading pypugjs-5.9.12-py2.py3-none-any.whl (36 kB)\n",
            "Requirement already satisfied: Pillow>=4.0.0 in /usr/local/lib/python3.9/dist-packages (from weasyprint<=52->pdf_reports) (8.4.0)\n",
            "Collecting cssselect2>=0.1\n",
            "  Downloading cssselect2-0.7.0-py3-none-any.whl (15 kB)\n",
            "Requirement already satisfied: html5lib>=0.999999999 in /usr/local/lib/python3.9/dist-packages (from weasyprint<=52->pdf_reports) (1.1)\n",
            "Collecting CairoSVG>=2.4.0\n",
            "  Downloading CairoSVG-2.7.0-py3-none-any.whl (43 kB)\n",
            "\u001b[2K     \u001b[90m━━━━━━━━━━━━━━━━━━━━━━━━━━━━━━━━━━━━━━━━\u001b[0m \u001b[32m43.2/43.2 KB\u001b[0m \u001b[31m6.2 MB/s\u001b[0m eta \u001b[36m0:00:00\u001b[0m\n",
            "\u001b[?25hCollecting Pyphen>=0.9.1\n",
            "  Downloading pyphen-0.14.0-py3-none-any.whl (2.0 MB)\n",
            "\u001b[2K     \u001b[90m━━━━━━━━━━━━━━━━━━━━━━━━━━━━━━━━━━━━━━━━\u001b[0m \u001b[32m2.0/2.0 MB\u001b[0m \u001b[31m77.4 MB/s\u001b[0m eta \u001b[36m0:00:00\u001b[0m\n",
            "\u001b[?25hRequirement already satisfied: cffi>=0.6 in /usr/local/lib/python3.9/dist-packages (from weasyprint<=52->pdf_reports) (1.15.1)\n",
            "Requirement already satisfied: setuptools>=39.2.0 in /usr/local/lib/python3.9/dist-packages (from weasyprint<=52->pdf_reports) (67.6.0)\n",
            "Requirement already satisfied: tinycss2>=1.0.0 in /usr/local/lib/python3.9/dist-packages (from weasyprint<=52->pdf_reports) (1.2.1)\n",
            "Collecting cairocffi>=0.9.0\n",
            "  Downloading cairocffi-1.5.0.tar.gz (86 kB)\n",
            "\u001b[2K     \u001b[90m━━━━━━━━━━━━━━━━━━━━━━━━━━━━━━━━━━━━━━━━\u001b[0m \u001b[32m86.8/86.8 KB\u001b[0m \u001b[31m14.4 MB/s\u001b[0m eta \u001b[36m0:00:00\u001b[0m\n",
            "\u001b[?25h  Installing build dependencies ... \u001b[?25l\u001b[?25hdone\n",
            "  Getting requirements to build wheel ... \u001b[?25l\u001b[?25hdone\n",
            "  Installing backend dependencies ... \u001b[?25l\u001b[?25hdone\n",
            "  Preparing metadata (pyproject.toml) ... \u001b[?25l\u001b[?25hdone\n",
            "Requirement already satisfied: soupsieve>1.2 in /usr/local/lib/python3.9/dist-packages (from beautifulsoup4->pdf_reports) (2.4)\n",
            "Requirement already satisfied: MarkupSafe>=2.0 in /usr/local/lib/python3.9/dist-packages (from jinja2->pdf_reports) (2.1.2)\n",
            "Requirement already satisfied: importlib-metadata>=4.4 in /usr/local/lib/python3.9/dist-packages (from Markdown->pdf_reports) (6.1.0)\n",
            "Requirement already satisfied: python-dateutil>=2.8.1 in /usr/local/lib/python3.9/dist-packages (from pandas->pdf_reports) (2.8.2)\n",
            "Requirement already satisfied: pytz>=2020.1 in /usr/local/lib/python3.9/dist-packages (from pandas->pdf_reports) (2022.7.1)\n",
            "Requirement already satisfied: numpy>=1.18.5 in /usr/local/lib/python3.9/dist-packages (from pandas->pdf_reports) (1.22.4)\n",
            "Requirement already satisfied: six in /usr/local/lib/python3.9/dist-packages (from pypugjs->pdf_reports) (1.16.0)\n",
            "Requirement already satisfied: charset-normalizer in /usr/local/lib/python3.9/dist-packages (from pypugjs->pdf_reports) (2.0.12)\n",
            "Requirement already satisfied: defusedxml in /usr/local/lib/python3.9/dist-packages (from CairoSVG>=2.4.0->weasyprint<=52->pdf_reports) (0.7.1)\n",
            "Requirement already satisfied: pycparser in /usr/local/lib/python3.9/dist-packages (from cffi>=0.6->weasyprint<=52->pdf_reports) (2.21)\n",
            "Requirement already satisfied: webencodings in /usr/local/lib/python3.9/dist-packages (from cssselect2>=0.1->weasyprint<=52->pdf_reports) (0.5.1)\n",
            "Requirement already satisfied: zipp>=0.5 in /usr/local/lib/python3.9/dist-packages (from importlib-metadata>=4.4->Markdown->pdf_reports) (3.15.0)\n",
            "Building wheels for collected packages: cairocffi\n",
            "  Building wheel for cairocffi (pyproject.toml) ... \u001b[?25l\u001b[?25hdone\n",
            "  Created wheel for cairocffi: filename=cairocffi-1.5.0-py3-none-any.whl size=90538 sha256=65a27b57c44ebcf3cd03144617c5f9eee8cd5240605ed5be9a3de37b3d1bc3d5\n",
            "  Stored in directory: /root/.cache/pip/wheels/34/c0/21/58ab88c0e5a36a32f10f5257afbd6e5fae805171da13691863\n",
            "Successfully built cairocffi\n",
            "Installing collected packages: pypugjs, Pyphen, backports.functools-lru-cache, cssselect2, cairocffi, CairoSVG, weasyprint, pdf_reports\n",
            "Successfully installed CairoSVG-2.7.0 Pyphen-0.14.0 backports.functools-lru-cache-1.6.4 cairocffi-1.5.0 cssselect2-0.7.0 pdf_reports-0.3.4 pypugjs-5.9.12 weasyprint-52\n"
          ]
        }
      ]
    },
    {
      "cell_type": "code",
      "source": [
        "import pdf_reports"
      ],
      "metadata": {
        "id": "tVx8YjO4jcMd"
      },
      "execution_count": null,
      "outputs": []
    },
    {
      "cell_type": "markdown",
      "source": [
        "##Inputs do Código\n",
        "\n",
        "Para que o script exiba as informações solicitadas, é necessário campos input para que o usuário preencha as informações, cada informação deve ser salva em uma variável. Especifiquei a variável peso e altura como float, pois na hora de calcular o IMC, iria precisar converter o string para float, então optei por já realizar essa conversão direto pelo input. \n",
        "\n",
        "A variavel imc já recebe o valor do resultado do calculo de imc feito com base no peso e na altura."
      ],
      "metadata": {
        "id": "Q_3S14uuh1PO"
      }
    },
    {
      "cell_type": "code",
      "execution_count": null,
      "metadata": {
        "colab": {
          "base_uri": "https://localhost:8080/"
        },
        "id": "d8LVPpzpDTLw",
        "outputId": "20d44b8e-a934-40d0-a393-bd1a0982d919"
      },
      "outputs": [
        {
          "name": "stdout",
          "output_type": "stream",
          "text": [
            "Insira o nome do Aluno: Lucas Aranha\n",
            "Insira a idade do Aluno: 30\n",
            "Insira o peso do Aluno em Kg, ex 82.4: 15\n",
            "Insira a altura do Aluno em metros, ex 1.80: 1.90\n"
          ]
        }
      ],
      "source": [
        "nome = input('Insira o nome do Aluno: ')\n",
        "idade = input('Insira a idade do Aluno: ')\n",
        "peso = float(input('Insira o peso do Aluno em Kg, ex 82.4: '))\n",
        "altura = float(input('Insira a altura do Aluno em metros, ex 1.80: '))\n",
        "imc = peso / altura ** 2\n",
        "\n"
      ]
    },
    {
      "cell_type": "markdown",
      "source": [
        "##If e Else\n",
        "É necessário utilizar if e else para que o script de certo com o script do professor, na hora de montar o pdf pelo arquivo template.pug. Porém, na atividade do curso, o codigo que o professor apresenta para essa exibição do valor do IMC é bem simples, com apenas um if.\n",
        "Optei por acrescentar mais opções de classificação de imc, utilizei [esse site](https://www.tuasaude.com/calculadora/imc/) como referencia. Precisei editar o template.pug também, acrescentando no código as classificações que adicionei, além de modificar o css também, mudando as cores de certas classificações.  "
      ],
      "metadata": {
        "id": "8QSRCQpvi17k"
      }
    },
    {
      "cell_type": "code",
      "source": [
        "status = 'obesidade'\n",
        "\n",
        "if imc < 18.5:\n",
        "  status = 'magreza'\n",
        "elif imc < 25:\n",
        "  status = 'normal' \n",
        "elif imc < 30:\n",
        "  status = 'sobrepeso'\n",
        "elif imc > 30:\n",
        "  status = 'obesidade' \n",
        "else:\n",
        "  status = 'Peso ou altura inválido, não foi possível calcular'"
      ],
      "metadata": {
        "id": "rZqVjSH_UF63"
      },
      "execution_count": null,
      "outputs": []
    },
    {
      "cell_type": "code",
      "source": [
        "dados_aluno = {\n",
        "    'nome': nome,\n",
        "    'idade': idade,\n",
        "    'peso': peso,\n",
        "    'altura': altura,\n",
        "    'imc': imc,\n",
        "    'status': status\n",
        "}\n",
        "print(dados_aluno['status'])"
      ],
      "metadata": {
        "colab": {
          "base_uri": "https://localhost:8080/"
        },
        "id": "_GT-r7Q9jzZ-",
        "outputId": "b597cdf1-0080-4f5a-86e9-bf2af0665356"
      },
      "execution_count": null,
      "outputs": [
        {
          "output_type": "stream",
          "name": "stdout",
          "text": [
            "magreza\n"
          ]
        }
      ]
    },
    {
      "cell_type": "code",
      "source": [
        "template = pdf_reports.pug_to_html('template.pug', dados=dados_aluno)"
      ],
      "metadata": {
        "id": "sxLHJiDM1GAt"
      },
      "execution_count": null,
      "outputs": []
    },
    {
      "cell_type": "markdown",
      "source": [
        "##Saida do código\n",
        "\n",
        "Para finalizar, eu acrescentei a variavel filename, utilizando a função do python format, para formatar o nome do arquivo pdf que será gerado. A função format irá realizar a modificação quando for passado um parametro pra ela, que no caso, passei a variavel nome, para que o arquivo fosse gerado com o nome do aluno.\n",
        "Fiz essa modificação pensando numa aplicação real, onde o instrutor iria criar varias fichas, então não faz sentido criar varios arquivos com o mesmo nome, ficaria desorganizado. Pode mudar a variavel nome por outra coisa, como matricula do aluno, telefone e etc."
      ],
      "metadata": {
        "id": "G6uCOX7VkDD1"
      }
    },
    {
      "cell_type": "code",
      "source": [
        "filename = 'ficha_{}.pdf'.format(nome)\n",
        "pdf_reports.write_report(template, filename, use_default_styling=False)\n"
      ],
      "metadata": {
        "id": "weMUmR2r0RaA"
      },
      "execution_count": null,
      "outputs": []
    }
  ]
}